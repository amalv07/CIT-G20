{
 "cells": [
  {
   "cell_type": "code",
   "execution_count": 1,
   "metadata": {},
   "outputs": [
    {
     "name": "stdout",
     "output_type": "stream",
     "text": [
      "✅ All files have been downloaded successfully!\n"
     ]
    }
   ],
   "source": [
    "import os\n",
    "\n",
    "# Ensure the Kaggle API is set up correctly\n",
    "os.system(\"mkdir -p ~/.kaggle\")\n",
    "os.system(\"chmod 600 ~/.kaggle/kaggle.json\")\n",
    "\n",
    "# Define the Kaggle kernel path\n",
    "kernel_path = \"jayanth1287/yolov9-final-weapon\"\n",
    "\n",
    "# Download the kernel source files\n",
    "os.system(f\"kaggle kernels pull {kernel_path} -p yolov9_weapon_files --metadata\")\n",
    "\n",
    "# Unzip the files (if needed)\n",
    "os.system(\"unzip -o yolov9_weapon_files/*.zip -d yolov9_weapon_files\")\n",
    "\n",
    "print(\"✅ All files have been downloaded successfully!\")\n"
   ]
  },
  {
   "cell_type": "code",
   "execution_count": 3,
   "metadata": {},
   "outputs": [
    {
     "name": "stderr",
     "output_type": "stream",
     "text": [
      "'ls' is not recognized as an internal or external command,\n",
      "operable program or batch file.\n"
     ]
    }
   ],
   "source": [
    "!ls yolov9_weapon_files/\n"
   ]
  },
  {
   "cell_type": "code",
   "execution_count": null,
   "metadata": {},
   "outputs": [],
   "source": []
  }
 ],
 "metadata": {
  "kernelspec": {
   "display_name": "python_3.10.14",
   "language": "python",
   "name": "python3"
  },
  "language_info": {
   "codemirror_mode": {
    "name": "ipython",
    "version": 3
   },
   "file_extension": ".py",
   "mimetype": "text/x-python",
   "name": "python",
   "nbconvert_exporter": "python",
   "pygments_lexer": "ipython3",
   "version": "3.10.14"
  }
 },
 "nbformat": 4,
 "nbformat_minor": 2
}
